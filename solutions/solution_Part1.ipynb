{
 "cells": [
  {
   "cell_type": "markdown",
   "id": "70fd9f99-2c8d-4e25-a33b-5ca3e7676b18",
   "metadata": {},
   "source": [
    "# ACT2023 Tutorial Sessions -- exercises part I\n",
    "init draft: 05 Aug 2023\n",
    "last update: 05 Aug 2023\n",
    "\n",
    "Ref: https://act2023tutorials.netlify.app/algebraicjulia/exercises"
   ]
  }
 ],
 "metadata": {
  "kernelspec": {
   "display_name": "Julia 1.9.2",
   "language": "julia",
   "name": "julia-1.9"
  },
  "language_info": {
   "file_extension": ".jl",
   "mimetype": "application/julia",
   "name": "julia",
   "version": "1.9.2"
  }
 },
 "nbformat": 4,
 "nbformat_minor": 5
}
