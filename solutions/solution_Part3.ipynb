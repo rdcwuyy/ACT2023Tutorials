{
 "cells": [
  {
   "cell_type": "markdown",
   "id": "f966bbfc-6979-4ee0-8891-36a7e3d1dd9c",
   "metadata": {},
   "source": [
    "# ACT2023 Tutorial Sessions - exercises part 3\n",
    "init draft: 07 Aug 2023\n",
    "last update: 07 Aug 2023\n",
    "\n",
    "Ref: \\\n",
    "https://act2023tutorials.netlify.app/algebraicjulia/exercises \\\n",
    "https://act2023tutorials.netlify.app/algebraicjulia/solutions"
   ]
  },
  {
   "cell_type": "markdown",
   "id": "a9c71ba5-dc0e-4674-ab1c-2187d6f0981d",
   "metadata": {},
   "source": [
    "## Exercise (Your first DDS).\n",
    "DDS: discrete dynamical systems"
   ]
  },
  {
   "cell_type": "code",
   "execution_count": 1,
   "id": "05693246-5324-4f00-a3aa-dba525e0b461",
   "metadata": {},
   "outputs": [
    {
     "data": {
      "text/plain": [
       "DDS"
      ]
     },
     "execution_count": 1,
     "metadata": {},
     "output_type": "execute_result"
    }
   ],
   "source": [
    "using Catlab\n",
    "@present SchDDS(FreeSchema) begin\n",
    "  X::Ob\n",
    "  ϕ::Hom(X,X)\n",
    "end\n",
    "\n",
    "@acset_type DDS(SchDDS)"
   ]
  },
  {
   "cell_type": "code",
   "execution_count": 2,
   "id": "e645b188-6128-45c4-871f-2cae93effb82",
   "metadata": {},
   "outputs": [
    {
     "data": {
      "text/html": [
       "<div class=\"c-set\">\n",
       "<span class=\"c-set-summary\">DDS {X:5}</span>\n",
       "<table>\n",
       "  <thead>\n",
       "    <tr class = \"header headerLastRow\">\n",
       "      <th class = \"rowLabel\" style = \"font-weight: bold; text-align: right;\">X</th>\n",
       "      <th style = \"text-align: right;\">ϕ</th>\n",
       "    </tr>\n",
       "  </thead>\n",
       "  <tbody>\n",
       "    <tr>\n",
       "      <td class = \"rowLabel\" style = \"font-weight: bold; text-align: right;\">1</td>\n",
       "      <td style = \"text-align: right;\">3</td>\n",
       "    </tr>\n",
       "    <tr>\n",
       "      <td class = \"rowLabel\" style = \"font-weight: bold; text-align: right;\">2</td>\n",
       "      <td style = \"text-align: right;\">3</td>\n",
       "    </tr>\n",
       "    <tr>\n",
       "      <td class = \"rowLabel\" style = \"font-weight: bold; text-align: right;\">3</td>\n",
       "      <td style = \"text-align: right;\">4</td>\n",
       "    </tr>\n",
       "    <tr>\n",
       "      <td class = \"rowLabel\" style = \"font-weight: bold; text-align: right;\">4</td>\n",
       "      <td style = \"text-align: right;\">1</td>\n",
       "    </tr>\n",
       "    <tr>\n",
       "      <td class = \"rowLabel\" style = \"font-weight: bold; text-align: right;\">5</td>\n",
       "      <td style = \"text-align: right;\">2</td>\n",
       "    </tr>\n",
       "  </tbody>\n",
       "</table>\n",
       "</div>\n"
      ],
      "text/plain": [
       "DDS {X:5}\n",
       "┌───┬───┐\n",
       "│\u001b[1m X \u001b[0m│\u001b[1m ϕ \u001b[0m│\n",
       "├───┼───┤\n",
       "│\u001b[1m 1 \u001b[0m│ 3 │\n",
       "│\u001b[1m 2 \u001b[0m│ 3 │\n",
       "│\u001b[1m 3 \u001b[0m│ 4 │\n",
       "│\u001b[1m 4 \u001b[0m│ 1 │\n",
       "│\u001b[1m 5 \u001b[0m│ 2 │\n",
       "└───┴───┘\n"
      ]
     },
     "execution_count": 2,
     "metadata": {},
     "output_type": "execute_result"
    }
   ],
   "source": [
    "using Catlab\n",
    "\n",
    "myDDS = DDS()\n",
    "add_parts!(myDDS, :X, 5, ϕ=[3,3,4,1,2])\n",
    "myDDS"
   ]
  },
  {
   "cell_type": "markdown",
   "id": "980b7867-9ecf-41ea-a629-ad1cab37c5bc",
   "metadata": {},
   "source": [
    "We could alternatively make use of the @acset macro. This lets us specify an instance declaratively."
   ]
  },
  {
   "cell_type": "code",
   "execution_count": 3,
   "id": "875eabbc-28ce-439d-995a-bbd92586b132",
   "metadata": {},
   "outputs": [
    {
     "data": {
      "text/html": [
       "<div class=\"c-set\">\n",
       "<span class=\"c-set-summary\">DDS {X:5}</span>\n",
       "<table>\n",
       "  <thead>\n",
       "    <tr class = \"header headerLastRow\">\n",
       "      <th class = \"rowLabel\" style = \"font-weight: bold; text-align: right;\">X</th>\n",
       "      <th style = \"text-align: right;\">ϕ</th>\n",
       "    </tr>\n",
       "  </thead>\n",
       "  <tbody>\n",
       "    <tr>\n",
       "      <td class = \"rowLabel\" style = \"font-weight: bold; text-align: right;\">1</td>\n",
       "      <td style = \"text-align: right;\">3</td>\n",
       "    </tr>\n",
       "    <tr>\n",
       "      <td class = \"rowLabel\" style = \"font-weight: bold; text-align: right;\">2</td>\n",
       "      <td style = \"text-align: right;\">3</td>\n",
       "    </tr>\n",
       "    <tr>\n",
       "      <td class = \"rowLabel\" style = \"font-weight: bold; text-align: right;\">3</td>\n",
       "      <td style = \"text-align: right;\">4</td>\n",
       "    </tr>\n",
       "    <tr>\n",
       "      <td class = \"rowLabel\" style = \"font-weight: bold; text-align: right;\">4</td>\n",
       "      <td style = \"text-align: right;\">1</td>\n",
       "    </tr>\n",
       "    <tr>\n",
       "      <td class = \"rowLabel\" style = \"font-weight: bold; text-align: right;\">5</td>\n",
       "      <td style = \"text-align: right;\">2</td>\n",
       "    </tr>\n",
       "  </tbody>\n",
       "</table>\n",
       "</div>\n"
      ],
      "text/plain": [
       "DDS {X:5}\n",
       "┌───┬───┐\n",
       "│\u001b[1m X \u001b[0m│\u001b[1m ϕ \u001b[0m│\n",
       "├───┼───┤\n",
       "│\u001b[1m 1 \u001b[0m│ 3 │\n",
       "│\u001b[1m 2 \u001b[0m│ 3 │\n",
       "│\u001b[1m 3 \u001b[0m│ 4 │\n",
       "│\u001b[1m 4 \u001b[0m│ 1 │\n",
       "│\u001b[1m 5 \u001b[0m│ 2 │\n",
       "└───┴───┘\n"
      ]
     },
     "execution_count": 3,
     "metadata": {},
     "output_type": "execute_result"
    }
   ],
   "source": [
    "using Catlab\n",
    "\n",
    "myDDS = @acset DDS begin\n",
    "  X = 5\n",
    "  ϕ = [3,3,4,1,2]\n",
    "end\n",
    "myDDS"
   ]
  },
  {
   "cell_type": "code",
   "execution_count": null,
   "id": "dc8e26b8-9cfc-4171-ae48-3bff19e3c59c",
   "metadata": {},
   "outputs": [],
   "source": [
    "## Exercise (Double nested undirected wiring diagram)"
   ]
  }
 ],
 "metadata": {
  "kernelspec": {
   "display_name": "Julia 1.9.2",
   "language": "julia",
   "name": "julia-1.9"
  },
  "language_info": {
   "file_extension": ".jl",
   "mimetype": "application/julia",
   "name": "julia",
   "version": "1.9.2"
  }
 },
 "nbformat": 4,
 "nbformat_minor": 5
}
