{
 "cells": [
  {
   "cell_type": "markdown",
   "id": "70fd9f99-2c8d-4e25-a33b-5ca3e7676b18",
   "metadata": {},
   "source": [
    "# ACT2023 Tutorial Sessions - exercises part 1 \n",
    "init draft: 05 Aug 2023\n",
    "last update: 05 Aug 2023\n",
    "\n",
    "Ref: \\\n",
    "https://act2023tutorials.netlify.app/algebraicjulia/exercises \\\n",
    "https://act2023tutorials.netlify.app/algebraicjulia/solutions"
   ]
  },
  {
   "cell_type": "markdown",
   "id": "2838761b-cfb0-4212-b6dc-530953095f91",
   "metadata": {},
   "source": [
    "## Exercise (Hello World)\n",
    " Get Julia to print “Hello World”."
   ]
  },
  {
   "cell_type": "code",
   "execution_count": 1,
   "id": "ee1fe0d2-6fe1-49cb-9f81-d6304af3bb80",
   "metadata": {},
   "outputs": [
    {
     "name": "stdout",
     "output_type": "stream",
     "text": [
      "Hello World!\n",
      "Hello World!\n"
     ]
    }
   ],
   "source": [
    "# Output text with the println function.\n",
    "println(\"Hello World!\")\n",
    "\n",
    "# String concatentation in Julia uses the * symbol.\n",
    "println(\"Hello\" * \" \" * \"World!\")"
   ]
  },
  {
   "cell_type": "markdown",
   "id": "8ad7bafd-83b0-4e89-94e3-67c7849ff6e8",
   "metadata": {},
   "source": [
    "Print everything in a vector by using broadcasting. To broadcast, append . to your function, and pass it something you can iterate over (like a vector). Or, use map or foreach."
   ]
  },
  {
   "cell_type": "code",
   "execution_count": 2,
   "id": "d3c41b00-4640-444c-ae9f-40b15228ec44",
   "metadata": {},
   "outputs": [
    {
     "name": "stdout",
     "output_type": "stream",
     "text": [
      "Hello\n",
      "World!\n",
      "Hello\n",
      "World!\n",
      "Hello World!"
     ]
    }
   ],
   "source": [
    "# Both of these return a vector of `nothing`s:\n",
    "\n",
    "println.([\"Hello\", \"World!\"])\n",
    "map(println, [\"Hello\", \"World!\"])\n",
    "\n",
    "# This one produces side effects only:\n",
    "foreach(print, [\"Hello\", \" World!\"])"
   ]
  },
  {
   "cell_type": "markdown",
   "id": "fa07a768-0856-4600-b2db-201cd1cd6850",
   "metadata": {},
   "source": [
    "Perform string interpolation using $."
   ]
  },
  {
   "cell_type": "code",
   "execution_count": 3,
   "id": "0e5b27ce-d2be-4272-a3f3-6c7a9cf851ae",
   "metadata": {},
   "outputs": [
    {
     "name": "stdout",
     "output_type": "stream",
     "text": [
      "Hello, World!\n"
     ]
    }
   ],
   "source": [
    "greeting = \"Hello\"\n",
    "greetee = \"World\"\n",
    "\n",
    "println(\"$greeting, $(greetee)!\")"
   ]
  },
  {
   "cell_type": "markdown",
   "id": "e851d040-93e6-48be-aec4-a1a6fa2ce894",
   "metadata": {},
   "source": [
    "## Exercise (Package management)\n",
    " Install a Julia package, such as Catlab or AlgebraicDynamics, using the Julia package manager.\n",
    " https://docs.julialang.org/en/v1/stdlib/Pkg/"
   ]
  },
  {
   "cell_type": "code",
   "execution_count": 4,
   "id": "2ba0c704-00db-4987-bff9-3fdcd62ea8f8",
   "metadata": {},
   "outputs": [
    {
     "data": {
      "text/html": [
       "<div class=\"c-set\">\n",
       "<span class=\"c-set-summary\">Graph {V:7, E:6}</span>\n",
       "<table>\n",
       "  <thead>\n",
       "    <tr class = \"header headerLastRow\">\n",
       "      <th class = \"rowLabel\" style = \"font-weight: bold; text-align: right;\">E</th>\n",
       "      <th style = \"text-align: right;\">src</th>\n",
       "      <th style = \"text-align: right;\">tgt</th>\n",
       "    </tr>\n",
       "  </thead>\n",
       "  <tbody>\n",
       "    <tr>\n",
       "      <td class = \"rowLabel\" style = \"font-weight: bold; text-align: right;\">1</td>\n",
       "      <td style = \"text-align: right;\">1</td>\n",
       "      <td style = \"text-align: right;\">2</td>\n",
       "    </tr>\n",
       "    <tr>\n",
       "      <td class = \"rowLabel\" style = \"font-weight: bold; text-align: right;\">2</td>\n",
       "      <td style = \"text-align: right;\">2</td>\n",
       "      <td style = \"text-align: right;\">3</td>\n",
       "    </tr>\n",
       "    <tr>\n",
       "      <td class = \"rowLabel\" style = \"font-weight: bold; text-align: right;\">3</td>\n",
       "      <td style = \"text-align: right;\">3</td>\n",
       "      <td style = \"text-align: right;\">4</td>\n",
       "    </tr>\n",
       "    <tr>\n",
       "      <td class = \"rowLabel\" style = \"font-weight: bold; text-align: right;\">4</td>\n",
       "      <td style = \"text-align: right;\">4</td>\n",
       "      <td style = \"text-align: right;\">5</td>\n",
       "    </tr>\n",
       "    <tr>\n",
       "      <td class = \"rowLabel\" style = \"font-weight: bold; text-align: right;\">5</td>\n",
       "      <td style = \"text-align: right;\">5</td>\n",
       "      <td style = \"text-align: right;\">6</td>\n",
       "    </tr>\n",
       "    <tr>\n",
       "      <td class = \"rowLabel\" style = \"font-weight: bold; text-align: right;\">6</td>\n",
       "      <td style = \"text-align: right;\">6</td>\n",
       "      <td style = \"text-align: right;\">7</td>\n",
       "    </tr>\n",
       "  </tbody>\n",
       "</table>\n",
       "</div>\n"
      ],
      "text/plain": [
       "Graph {V:7, E:6}\n",
       "┌───┬─────┬─────┐\n",
       "│\u001b[1m E \u001b[0m│\u001b[1m src \u001b[0m│\u001b[1m tgt \u001b[0m│\n",
       "├───┼─────┼─────┤\n",
       "│\u001b[1m 1 \u001b[0m│   1 │   2 │\n",
       "│\u001b[1m 2 \u001b[0m│   2 │   3 │\n",
       "│\u001b[1m 3 \u001b[0m│   3 │   4 │\n",
       "│\u001b[1m 4 \u001b[0m│   4 │   5 │\n",
       "│\u001b[1m 5 \u001b[0m│   5 │   6 │\n",
       "│\u001b[1m 6 \u001b[0m│   6 │   7 │\n",
       "└───┴─────┴─────┘\n"
      ]
     },
     "execution_count": 4,
     "metadata": {},
     "output_type": "execute_result"
    }
   ],
   "source": [
    "using Catlab\n",
    "\n",
    "g = path_graph(Graph, 7)"
   ]
  },
  {
   "cell_type": "markdown",
   "id": "ab15bad7-d96b-45e4-aa53-c1a92025b98f",
   "metadata": {},
   "source": [
    "## Exercise (Finite sets)\n",
    "We can represent the objects and morphisms in the skeleton of the category FiSet using the Julia structs:\n",
    "https://docs.julialang.org/en/v1/manual/types/#Composite-Types \\\n",
    "\n",
    "Here, we simply identify the finite set {1, 2, ..., n}\n",
    " with its number of elements since set operations then operate at the speed of Julia integers.\n",
    "\n",
    "Write a function that computes the product of two finite sets, along with the projection maps out."
   ]
  },
  {
   "cell_type": "markdown",
   "id": "6c403116-0cc7-4775-b778-718fbbe5153b",
   "metadata": {},
   "source": [
    "struct FinSet\n",
    "  n::Int\n",
    "end\n",
    "\n",
    "struct FinFunction\n",
    "  dom::FinSet\n",
    "  codom::FinSet\n",
    "  values::Vector{Int}\n",
    "end\n",
    "\n",
    "A, B = FinSet(3), FinSet(2)\n",
    "f = FinFunction([1,2,2], A, B)"
   ]
  },
  {
   "cell_type": "markdown",
   "id": "655783f4-6d9f-4fe5-a7c5-3fda0533db1e",
   "metadata": {},
   "source": [
    "**Solution.**  For convenience, we’ll use the types FinSet and FinFunction exported by Catlab, which are similar to but more general than those in the problem statement."
   ]
  },
  {
   "cell_type": "code",
   "execution_count": 5,
   "id": "97249723-5b1b-4803-9037-5fee5b5dcfb5",
   "metadata": {},
   "outputs": [
    {
     "data": {
      "text/plain": [
       "product_projections (generic function with 1 method)"
      ]
     },
     "execution_count": 5,
     "metadata": {},
     "output_type": "execute_result"
    }
   ],
   "source": [
    "using Catlab\n",
    "\n",
    "function product_projections(A::FinSet{Int}, B::FinSet{Int})\n",
    "  m, n = length(A), length(B)\n",
    "  AB = FinSet(m*n)\n",
    "  \n",
    "  # In this calculation, `÷` (short for `div` function) is truncating integer\n",
    "  # division and `%` (short for `mod` function) is the modulus.\n",
    "  # Notice that we're using the skeleton of FinSet with sets `1:n` but the\n",
    "  # calculation below is most natural for sets `0:(n-1)`.\n",
    "  πA = FinFunction(i -> (i-1) ÷ n + 1, AB, A)\n",
    "  πB = FinFunction(i -> (i-1) % n + 1, AB, B)\n",
    "  \n",
    "  (πA, πB)\n",
    "end"
   ]
  },
  {
   "cell_type": "code",
   "execution_count": 6,
   "id": "edff6056-1cb4-4060-9f1b-f733299a6eb5",
   "metadata": {},
   "outputs": [
    {
     "data": {
      "text/plain": [
       "\u001b[32m\u001b[1mTest Passed\u001b[22m\u001b[39m"
      ]
     },
     "execution_count": 6,
     "metadata": {},
     "output_type": "execute_result"
    }
   ],
   "source": [
    "using Test\n",
    "\n",
    "π₁, π₂ = product_projections(FinSet(3), FinSet(4))\n",
    "@test dom(π₁) == dom(π₂) == FinSet(12)\n",
    "@test collect(π₁) == [1,1,1,1, 2,2,2,2, 3,3,3,3]\n",
    "@test collect(π₂) == [1,2,3,4, 1,2,3,4, 1,2,3,4]"
   ]
  },
  {
   "attachments": {
    "3265131b-4b28-4c59-88a7-48db8153732d.png": {
     "image/png": "[encoded data removed]"
    }
   },
   "cell_type": "markdown",
   "id": "10b7a405-e4ca-4b7e-a485-d9e63102c32c",
   "metadata": {},
   "source": [
    "## Exercise (Graphs)\n",
    "A graph is a set-valued functor on the free category generated by the\n",
    "\n",
    "![Screenshot 2023-08-05 at 21.49.46.png](attachment:3265131b-4b28-4c59-88a7-48db8153732d.png)\n",
    "\n",
    "Implement a graph data structure in Catlab either (a) using Catlab’s support for C-sets (@acset_type) or (b) more directly, using finite sets (FinSet) and functions (FinFunction). (Tip: Don’t call your data structure Graph.)"
   ]
  },
  {
   "cell_type": "markdown",
   "id": "6e765c5d-64d0-46e1-b1bf-ba13ae351886",
   "metadata": {},
   "source": [
    "**Solution.**\n",
    "\n",
    "a.Graphs as C-sets:"
   ]
  },
  {
   "cell_type": "code",
   "execution_count": 9,
   "id": "bdcb8686-e4f9-4262-9bfb-39086a892b8b",
   "metadata": {},
   "outputs": [
    {
     "data": {
      "text/html": [
       "<div class=\"c-set\">\n",
       "<span class=\"c-set-summary\">Gph {V:3, E:2}</span>\n",
       "<table>\n",
       "  <thead>\n",
       "    <tr class = \"header headerLastRow\">\n",
       "      <th class = \"rowLabel\" style = \"font-weight: bold; text-align: right;\">E</th>\n",
       "      <th style = \"text-align: right;\">src</th>\n",
       "      <th style = \"text-align: right;\">tgt</th>\n",
       "    </tr>\n",
       "  </thead>\n",
       "  <tbody>\n",
       "    <tr>\n",
       "      <td class = \"rowLabel\" style = \"font-weight: bold; text-align: right;\">1</td>\n",
       "      <td style = \"text-align: right;\">1</td>\n",
       "      <td style = \"text-align: right;\">2</td>\n",
       "    </tr>\n",
       "    <tr>\n",
       "      <td class = \"rowLabel\" style = \"font-weight: bold; text-align: right;\">2</td>\n",
       "      <td style = \"text-align: right;\">1</td>\n",
       "      <td style = \"text-align: right;\">1</td>\n",
       "    </tr>\n",
       "  </tbody>\n",
       "</table>\n",
       "</div>\n"
      ],
      "text/plain": [
       "Gph {V:3, E:2}\n",
       "┌───┬─────┬─────┐\n",
       "│\u001b[1m E \u001b[0m│\u001b[1m src \u001b[0m│\u001b[1m tgt \u001b[0m│\n",
       "├───┼─────┼─────┤\n",
       "│\u001b[1m 1 \u001b[0m│   1 │   2 │\n",
       "│\u001b[1m 2 \u001b[0m│   1 │   1 │\n",
       "└───┴─────┴─────┘\n"
      ]
     },
     "execution_count": 9,
     "metadata": {},
     "output_type": "execute_result"
    }
   ],
   "source": [
    "using Catlab\n",
    "\n",
    "@present SchGph(FreeSchema) begin\n",
    "   V::Ob\n",
    "   E::Ob\n",
    "   src::Hom(E,V)\n",
    "   tgt::Hom(E,V)\n",
    "end\n",
    "\n",
    "# Index the `src` and `tgt` functions for fast lookups of inverse images\n",
    "# using the `incident` function.\n",
    "@acset_type Gph(SchGph, index=[:src,:tgt])\n",
    "\n",
    "# An example graph\n",
    "g = @acset Gph begin\n",
    "  V = 3\n",
    "  E = 2\n",
    "  src = [1,1]\n",
    "  tgt = [2,1]\n",
    "end"
   ]
  },
  {
   "cell_type": "markdown",
   "id": "04cd04b6-54d8-4e6c-94a1-cdac2614a1b3",
   "metadata": {},
   "source": [
    "The exported Graph type includes support for visualization using Graphviz, which we can use to see what the above graph looks like:"
   ]
  },
  {
   "cell_type": "code",
   "execution_count": 10,
   "id": "aea3b9b0-9faa-4247-934a-10b536bf3c3d",
   "metadata": {},
   "outputs": [
    {
     "data": {
      "image/svg+xml": [
       "<?xml version=\"1.0\" encoding=\"UTF-8\" standalone=\"no\"?>\n",
       "<!DOCTYPE svg PUBLIC \"-//W3C//DTD SVG 1.1//EN\"\n",
       " \"http://www.w3.org/Graphics/SVG/1.1/DTD/svg11.dtd\">\n",
       "<!-- Generated by graphviz version 2.50.0 (0)\n",
       " -->\n",
       "<!-- Title: G Pages: 1 -->\n",
       "<svg width=\"86pt\" height=\"86pt\"\n",
       " viewBox=\"0.00 0.00 86.49 86.21\" xmlns=\"http://www.w3.org/2000/svg\" xmlns:xlink=\"http://www.w3.org/1999/xlink\">\n",
       "<g id=\"graph0\" class=\"graph\" transform=\"scale(1 1) rotate(0) translate(4 82.21)\">\n",
       "<title>G</title>\n",
       "<polygon fill=\"white\" stroke=\"transparent\" points=\"-4,4 -4,-82.21 82.49,-82.21 82.49,4 -4,4\"/>\n",
       "<!-- n1 -->\n",
       "<g id=\"node1\" class=\"node\">\n",
       "<title>n1</title>\n",
       "<ellipse fill=\"none\" stroke=\"black\" cx=\"10.67\" cy=\"-10.61\" rx=\"10.71\" ry=\"10.71\"/>\n",
       "<text text-anchor=\"middle\" x=\"10.67\" y=\"-6.91\" font-family=\"Times,serif\" font-size=\"14.00\">1</text>\n",
       "</g>\n",
       "<!-- n1&#45;&gt;n1 -->\n",
       "<g id=\"edge2\" class=\"edge\">\n",
       "<title>n1&#45;&gt;n1</title>\n",
       "<path fill=\"none\" stroke=\"black\" d=\"M3.13,-18.51C-2.56,-28.03 -0.05,-39.21 10.67,-39.21 19.54,-39.21 22.79,-31.55 20.41,-23.5\"/>\n",
       "<polygon fill=\"black\" stroke=\"black\" points=\"21.83,-22.38 18.2,-18.51 18.63,-23.79 21.83,-22.38\"/>\n",
       "</g>\n",
       "<!-- n2 -->\n",
       "<g id=\"node2\" class=\"node\">\n",
       "<title>n2</title>\n",
       "<ellipse fill=\"none\" stroke=\"black\" cx=\"67.88\" cy=\"-10.61\" rx=\"10.71\" ry=\"10.71\"/>\n",
       "<text text-anchor=\"middle\" x=\"67.88\" y=\"-6.91\" font-family=\"Times,serif\" font-size=\"14.00\">2</text>\n",
       "</g>\n",
       "<!-- n1&#45;&gt;n2 -->\n",
       "<g id=\"edge1\" class=\"edge\">\n",
       "<title>n1&#45;&gt;n2</title>\n",
       "<path fill=\"none\" stroke=\"black\" d=\"M21.28,-10.61C29.73,-10.61 42.16,-10.61 51.9,-10.61\"/>\n",
       "<polygon fill=\"black\" stroke=\"black\" points=\"52,-12.36 57,-10.61 52,-8.86 52,-12.36\"/>\n",
       "</g>\n",
       "<!-- n3 -->\n",
       "<g id=\"node3\" class=\"node\">\n",
       "<title>n3</title>\n",
       "<ellipse fill=\"none\" stroke=\"black\" cx=\"10.67\" cy=\"-67.61\" rx=\"10.71\" ry=\"10.71\"/>\n",
       "<text text-anchor=\"middle\" x=\"10.67\" y=\"-63.91\" font-family=\"Times,serif\" font-size=\"14.00\">3</text>\n",
       "</g>\n",
       "</g>\n",
       "</svg>\n"
      ],
      "text/plain": [
       "Catlab.Graphics.Graphviz.Graph(\"G\", true, \"dot\", Catlab.Graphics.Graphviz.Statement[Catlab.Graphics.Graphviz.Node(\"n1\", OrderedCollections.OrderedDict{Symbol, Union{String, Catlab.Graphics.Graphviz.Html}}(:label => \"1\")), Catlab.Graphics.Graphviz.Node(\"n2\", OrderedCollections.OrderedDict{Symbol, Union{String, Catlab.Graphics.Graphviz.Html}}(:label => \"2\")), Catlab.Graphics.Graphviz.Node(\"n3\", OrderedCollections.OrderedDict{Symbol, Union{String, Catlab.Graphics.Graphviz.Html}}(:label => \"3\")), Catlab.Graphics.Graphviz.Edge(Catlab.Graphics.Graphviz.NodeID[Catlab.Graphics.Graphviz.NodeID(\"n1\", \"\", \"\"), Catlab.Graphics.Graphviz.NodeID(\"n2\", \"\", \"\")], OrderedCollections.OrderedDict{Symbol, Union{String, Catlab.Graphics.Graphviz.Html}}()), Catlab.Graphics.Graphviz.Edge(Catlab.Graphics.Graphviz.NodeID[Catlab.Graphics.Graphviz.NodeID(\"n1\", \"\", \"\"), Catlab.Graphics.Graphviz.NodeID(\"n1\", \"\", \"\")], OrderedCollections.OrderedDict{Symbol, Union{String, Catlab.Graphics.Graphviz.Html}}())], OrderedCollections.OrderedDict{Symbol, Union{String, Catlab.Graphics.Graphviz.Html}}(:rankdir => \"LR\"), OrderedCollections.OrderedDict{Symbol, Union{String, Catlab.Graphics.Graphviz.Html}}(:height => \"0.05\", :margin => \"0\", :shape => \"circle\", :width => \"0.05\"), OrderedCollections.OrderedDict{Symbol, Union{String, Catlab.Graphics.Graphviz.Html}}(:arrowsize => \"0.5\"))"
      ]
     },
     "execution_count": 10,
     "metadata": {},
     "output_type": "execute_result"
    }
   ],
   "source": [
    "g = @acset Graph begin\n",
    "  V = 3\n",
    "  E = 2\n",
    "  src = [1,1]\n",
    "  tgt = [2,1]\n",
    "end\n",
    "\n",
    "to_graphviz(g, node_labels=true)"
   ]
  },
  {
   "cell_type": "markdown",
   "id": "7ce550f0-4876-4880-b0b0-e4923a938743",
   "metadata": {},
   "source": [
    "**Solution.**\n",
    "\n",
    "b.Using finite sets and functions:"
   ]
  },
  {
   "cell_type": "code",
   "execution_count": 11,
   "id": "c6b53d07-3059-4dae-a81d-7a11f33378c8",
   "metadata": {},
   "outputs": [
    {
     "data": {
      "text/plain": [
       "edges (generic function with 8 methods)"
      ]
     },
     "execution_count": 11,
     "metadata": {},
     "output_type": "execute_result"
    }
   ],
   "source": [
    "# Catlab exports these generic functions. We import them explicitly so that\n",
    "# we can add new methods to them.\n",
    "import Catlab: src, tgt, vertices, edges\n",
    "\n",
    "struct MyGraph\n",
    "  # We don't need fields for `E` and `V` since these are the domain and\n",
    "  # codomain of `src` and `tgt`.\n",
    "  src::FinFunction\n",
    "  tgt::FinFunction\n",
    "\n",
    "  function MyGraph(src::FinFunction, tgt::FinFunction)\n",
    "    dom(src) == dom(tgt) || error(\"Source and target must have same domain\")\n",
    "    codom(src) == codom(tgt) || error(\"Source and target must have same codomain\")\n",
    "    new(src, tgt)\n",
    "  end\n",
    "end\n",
    "\n",
    "# A few accessor functions. Our users shouldn't need to know the internal\n",
    "# layout of the fields in the struct!\n",
    "src(g::MyGraph) = g.src\n",
    "tgt(g::MyGraph) = g.tgt\n",
    "vertices(g::MyGraph) = codom(src(g)) # == codom(tgt(g))\n",
    "edges(g::MyGraph) = dom(src(g)) # == dom(tgt(g))"
   ]
  },
  {
   "cell_type": "code",
   "execution_count": 12,
   "id": "b8bc1e3a-a633-40ea-9475-ab439f9881da",
   "metadata": {},
   "outputs": [
    {
     "data": {
      "text/plain": [
       "\u001b[32m\u001b[1mTest Passed\u001b[22m\u001b[39m"
      ]
     },
     "execution_count": 12,
     "metadata": {},
     "output_type": "execute_result"
    }
   ],
   "source": [
    "using Test\n",
    "\n",
    "s, t = FinFunction([1,1], 3), FinFunction([2,1], 3)\n",
    "g = MyGraph(s, t)\n",
    "\n",
    "@test vertices(g) == FinSet(3)\n",
    "@test edges(g) == FinSet(2)"
   ]
  },
  {
   "cell_type": "markdown",
   "id": "b24547ca-f2fd-4d5b-baad-6d36e5aefebc",
   "metadata": {},
   "source": [
    "While the direct implementation is rather straightforward, the acset-based implementation will be dramatically faster in certain situations, especially for graph algorithms that involve iterating over all edges with a given source or target–all such lists of edges are pre-computed by the indexing of src and tgt in the exported Graph type. It’s also much better-suited for efficiently generalizing graph algorithms to other types of graphs.\n"
   ]
  },
  {
   "cell_type": "markdown",
   "id": "5c9b9355-e50d-48fb-aa64-56b241717be7",
   "metadata": {},
   "source": [
    "## Exercise (Optimizing Euler)\n",
    "\n",
    "Write an optimized implementation of Euler’s method that computes the derivative in place and only makes allocations when initializing the algorithm."
   ]
  },
  {
   "cell_type": "code",
   "execution_count": 13,
   "id": "0b88e543-71dd-4f20-93c7-834804e85106",
   "metadata": {},
   "outputs": [
    {
     "name": "stdout",
     "output_type": "stream",
     "text": [
      "  0.000207 seconds (5.00 k allocations: 500.266 KiB)\n"
     ]
    }
   ],
   "source": [
    "function euler(du::Function, init::Vector{Float64}, dt::Float64, m::Int)\n",
    "  n = length(init)\n",
    "  x = zeros(Float64, (m+1, n))\n",
    "  x[1,:] = init\n",
    "  for i in 1:m\n",
    "    x[i+1,:] = x[i,:] + dt * du(x[i,:])\n",
    "  end\n",
    "  x\n",
    "end\n",
    "\n",
    "du(u) = [u[3], u[4], 0, -9.8]\n",
    "@time trajectory = euler(du, [0, 0, 5.0, 10.0], 0.1, 1000);"
   ]
  },
  {
   "cell_type": "markdown",
   "id": "6cf0f244-4ec7-43cd-8295-317841c635c9",
   "metadata": {},
   "source": [
    "In the optimized version, we pass a function du! that computes the derivative in-place."
   ]
  },
  {
   "cell_type": "code",
   "execution_count": 14,
   "id": "1a001c8a-7ce4-469b-bcab-01ebb776785c",
   "metadata": {},
   "outputs": [
    {
     "name": "stdout",
     "output_type": "stream",
     "text": [
      "  0.000022 seconds (5 allocations: 31.609 KiB)\n"
     ]
    }
   ],
   "source": [
    "function inplace_euler(du!::Function, init::Vector{Float64}, dt::Float64, m::Int)\n",
    "  n = length(init)\n",
    "  x = zeros(Float64, (m+1, n))\n",
    "  du = zeros(Float64, n)\n",
    "  x[1,:] = init\n",
    "  for i in 1:m\n",
    "    du!(du, j -> x[i,j])\n",
    "    for j in 1:n\n",
    "      x[i+1,j] = x[i,j] + dt * du[j]\n",
    "    end\n",
    "  end\n",
    "  x\n",
    "end\n",
    "\n",
    "function du!(du, u)\n",
    "  du[1] = u(3)\n",
    "  du[2] = u(4)\n",
    "  du[3] = 0\n",
    "  du[4] = -9.8\n",
    "end\n",
    "@time trajectory′ = inplace_euler(du!, [0, 0, 5.0, 10.0], 0.1, 1000);"
   ]
  },
  {
   "cell_type": "code",
   "execution_count": 15,
   "id": "45a2beef-d954-4ee2-8f74-7fa5d5f72e5a",
   "metadata": {},
   "outputs": [
    {
     "data": {
      "text/plain": [
       "\u001b[32m\u001b[1mTest Passed\u001b[22m\u001b[39m"
      ]
     },
     "execution_count": 15,
     "metadata": {},
     "output_type": "execute_result"
    }
   ],
   "source": [
    "@test trajectory′ ≈ trajectory"
   ]
  },
  {
   "cell_type": "code",
   "execution_count": null,
   "id": "9d14969a-0347-4702-b048-e9f3f0ee7f27",
   "metadata": {},
   "outputs": [],
   "source": []
  }
 ],
 "metadata": {
  "kernelspec": {
   "display_name": "Julia 1.9.2",
   "language": "julia",
   "name": "julia-1.9"
  },
  "language_info": {
   "file_extension": ".jl",
   "mimetype": "application/julia",
   "name": "julia",
   "version": "1.9.2"
  }
 },
 "nbformat": 4,
 "nbformat_minor": 5
}
